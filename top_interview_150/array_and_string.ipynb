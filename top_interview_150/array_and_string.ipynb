{
 "cells": [
  {
   "cell_type": "markdown",
   "id": "b8878b00",
   "metadata": {},
   "source": [
    "# LEETCODE. ARRAY or STRINGS"
   ]
  },
  {
   "cell_type": "markdown",
   "id": "50de29bf",
   "metadata": {},
   "source": [
    "<a id=\"table_of_contents\"></a>"
   ]
  },
  {
   "cell_type": "markdown",
   "id": "b4b7c4e9",
   "metadata": {},
   "source": [
    "* [Easy](#)\n",
    "    * [x] [88. Merge Sorted Array](#merge_sorted_array)\n",
    "    * [x] [27. Remove Element](#remove_element)\n",
    "    * [x] [26. Remove Duplicates from Sorted Array](#remove_duplicates_from_sorted_array)\n",
    "    * [x] [169. Majority Element](#majority_element)\n",
    "    * [x] [13. Roman to Integer](#roman_to_integer)\n",
    "* [Medium](#medium)\n",
    "    * [x] [80. Remove Duplicates from Sorted Array II](#remove_duplicates_from_sorted_array_2)\n",
    "    * [x] [189. Rotate Array](#rotate_array)\n",
    "    * [x] [55. Jump Game](#jump_game)\n",
    "    * [ ] [12. Integer to Roman](#integer_to_roman)\n",
    "    * [ ] [45. Jump Game II](#jump_game_2)\n",
    "* [Hard](#hard)\n",
    "    * [x] [146. Candy](#candy)\n",
    "    * [x] [42. Trapping Rain Water](#trapping_rain_water)"
   ]
  },
  {
   "cell_type": "markdown",
   "id": "679d2d01",
   "metadata": {},
   "source": [
    "## EASY\n",
    "\n",
    "The list of [Top Interview 150](https://leetcode.com/studyplan/top-interview-150/)"
   ]
  },
  {
   "cell_type": "markdown",
   "id": "05ff2873",
   "metadata": {},
   "source": [
    "[to the Table of contents](#table_of_contents)\n",
    "<a id=\"merge_sorted_array\"></a>"
   ]
  },
  {
   "cell_type": "markdown",
   "id": "107cbaa3",
   "metadata": {},
   "source": [
    "## 88. Merge Sorted Array\n",
    "\n",
    "You are given two integer arrays nums1 and nums2, sorted in non-decreasing order, and two integers m and n, representing the number of elements in nums1 and nums2 respectively.\n",
    "\n",
    "Merge nums1 and nums2 into a single array sorted in non-decreasing order.\n",
    "\n",
    "The final sorted array should not be returned by the function, but instead be stored inside the array nums1. To accommodate this, nums1 has a length of m + n, where the first m elements denote the elements that should be merged, and the last n elements are set to 0 and should be ignored. nums2 has a length of n.\n",
    "\n",
    " \n",
    "\n",
    "### Example 1:\n",
    "\n",
    "    Input: nums1 = [1,2,3,0,0,0], m = 3, nums2 = [2,5,6], n = 3\n",
    "    Output: [1,2,2,3,5,6]\n",
    "    Explanation: The arrays we are merging are [1,2,3] and [2,5,6].\n",
    "    The result of the merge is [1,2,2,3,5,6] with the underlined elements coming from nums1.\n",
    "\n",
    "### Example 2:\n",
    "\n",
    "    Input: nums1 = [1], m = 1, nums2 = [], n = 0\n",
    "    Output: [1]\n",
    "    Explanation: The arrays we are merging are [1] and [].\n",
    "    The result of the merge is [1].\n",
    "\n",
    "### Example 3:\n",
    "\n",
    "    Input: nums1 = [0], m = 0, nums2 = [1], n = 1\n",
    "    Output: [1]\n",
    "    Explanation: The arrays we are merging are [] and [1].\n",
    "    The result of the merge is [1].\n",
    "    Note that because m = 0, there are no elements in nums1. The 0 is only there to ensure the merge result can fit in nums1.\n",
    "\n",
    " \n",
    "\n",
    "### Constraints:\n",
    "\n",
    "- $nums1.length == m + n$\n",
    "- $nums2.length == n$\n",
    "- $0 <= m, n <= 200$\n",
    "- $1 <= m + n <= 200$\n",
    "- $-10^9 <= nums1[i], nums2[j] <= 10^9$\n",
    "\n",
    "#### Follow up: Can you come up with an algorithm that runs in O(m + n) time?"
   ]
  },
  {
   "cell_type": "markdown",
   "id": "6cfb75e9",
   "metadata": {},
   "source": [
    "```python\n",
    "class Solution:\n",
    "    def merge(self, nums1: List[int], m: int, nums2: List[int], n: int) -> None:\n",
    "        \"\"\"\n",
    "        Do not return anything, modify nums1 in-place instead.\n",
    "        \"\"\"\n",
    "```"
   ]
  },
  {
   "cell_type": "code",
   "execution_count": 1,
   "id": "47217544",
   "metadata": {},
   "outputs": [],
   "source": [
    "nums1 = [1,2,3,0,0,0]\n",
    "nums2 = [2,5,6]\n",
    "m = 3\n",
    "n = 3"
   ]
  },
  {
   "cell_type": "code",
   "execution_count": 5,
   "id": "71cce854",
   "metadata": {},
   "outputs": [],
   "source": [
    "# Комментарии \n",
    "class Solution:\n",
    "    def merge(self, nums1, m, nums2, n):\n",
    "        \"\"\"\n",
    "        Do not return anything, modify nums1 in-place instead.\n",
    "        \"\"\"\n",
    "        while m > 0 and n > 0:\n",
    "            print(m, n, nums1, nums2)\n",
    "            if nums1[m-1] >= nums2[n-1]:\n",
    "                nums1[m+n-1] = nums1[m-1]\n",
    "                m -= 1\n",
    "            else:\n",
    "                nums1[m+n-1] = nums2[n-1]\n",
    "                n -= 1\n",
    "        if n > 0:\n",
    "            nums1[:n] = nums2[:n]"
   ]
  },
  {
   "cell_type": "code",
   "execution_count": 6,
   "id": "fcaf97f7",
   "metadata": {},
   "outputs": [
    {
     "name": "stdout",
     "output_type": "stream",
     "text": [
      "3 3 [1, 2, 2, 3, 5, 6] [2, 5, 6]\n",
      "3 2 [1, 2, 2, 3, 5, 6] [2, 5, 6]\n",
      "3 1 [1, 2, 2, 3, 5, 6] [2, 5, 6]\n",
      "2 1 [1, 2, 2, 2, 5, 6] [2, 5, 6]\n",
      "1 1 [1, 2, 2, 2, 5, 6] [2, 5, 6]\n"
     ]
    }
   ],
   "source": [
    "aaa = Solution()\n",
    "aaa.merge(nums1, m, nums2, n)"
   ]
  },
  {
   "cell_type": "code",
   "execution_count": 33,
   "id": "4e102eab",
   "metadata": {},
   "outputs": [],
   "source": [
    "def merge(nums1, m, nums2, n):\n",
    "        while m > 0 and n > 0:\n",
    "            print(m, n, nums1, nums2)\n",
    "            if nums1[m-1] >= nums2[n-1]:\n",
    "                nums1[m+n-1] = nums1[m-1]\n",
    "                m -= 1\n",
    "            else:\n",
    "                nums1[m+n-1] = nums2[n-1]\n",
    "                n -= 1\n",
    "        if n > 0:\n",
    "            nums1[:n] = nums2[:n]"
   ]
  },
  {
   "cell_type": "code",
   "execution_count": 34,
   "id": "cfd551c2",
   "metadata": {},
   "outputs": [
    {
     "name": "stdout",
     "output_type": "stream",
     "text": [
      "3 3 [1, 2, 2, 3, 0, 0] [2, 5, 6]\n",
      "3 2 [1, 2, 2, 3, 0, 6] [2, 5, 6]\n",
      "3 1 [1, 2, 2, 3, 5, 6] [2, 5, 6]\n",
      "2 1 [1, 2, 2, 2, 5, 6] [2, 5, 6]\n",
      "1 1 [1, 2, 2, 2, 5, 6] [2, 5, 6]\n"
     ]
    }
   ],
   "source": [
    "merge(nums1, m, nums2, n)"
   ]
  },
  {
   "cell_type": "markdown",
   "id": "64bc7c8c",
   "metadata": {},
   "source": [
    "[to the Table of contents](#table_of_contents)\n",
    "<a id=\"remove_element\"></a>"
   ]
  },
  {
   "cell_type": "markdown",
   "id": "927d6dc0",
   "metadata": {},
   "source": [
    "### 27. Remove Element\n",
    "\n",
    "Given an integer array nums and an integer val, remove all occurrences of val in nums in-place. The order of the elements may be changed. Then return the number of elements in nums which are not equal to val.\n",
    "\n",
    "Consider the number of elements in nums which are not equal to val be k, to get accepted, you need to do the following things:\n",
    "\n",
    "- Change the array nums such that the first k elements of nums contain the elements which are not equal to val. The remaining elements of nums are not important as well as the size of nums.\n",
    "- Return k.\n",
    "\n",
    "Custom Judge:\n",
    "\n",
    "The judge will test your solution with the following code:\n",
    "```python\n",
    "int[] nums = [...]; // Input array\n",
    "int val = ...; // Value to remove\n",
    "int[] expectedNums = [...]; // The expected answer with correct length.\n",
    "                            // It is sorted with no values equaling val.\n",
    "\n",
    "int k = removeElement(nums, val); // Calls your implementation\n",
    "\n",
    "assert k == expectedNums.length;\n",
    "sort(nums, 0, k); // Sort the first k elements of nums\n",
    "for (int i = 0; i < actualLength; i++) {\n",
    "    assert nums[i] == expectedNums[i];\n",
    "}\n",
    "```\n",
    "\n",
    "If all assertions pass, then your solution will be accepted.\n",
    "\n",
    " \n",
    "\n",
    "#### Example 1:\n",
    "\n",
    "    Input: nums = [3,2,2,3], val = 3\n",
    "    Output: 2, nums = [2,2,_,_]\n",
    "    Explanation: Your function should return k = 2, with the first two elements of nums being 2.\n",
    "    It does not matter what you leave beyond the returned k (hence they are underscores).\n",
    "\n",
    "#### Example 2:\n",
    "\n",
    "    Input: nums = [0,1,2,2,3,0,4,2], val = 2\n",
    "    Output: 5, nums = [0,1,4,0,3,_,_,_]\n",
    "    Explanation: Your function should return k = 5, with the first five elements of nums containing 0, 0, 1, 3, and 4.\n",
    "    Note that the five elements can be returned in any order.\n",
    "    It does not matter what you leave beyond the returned k (hence they are underscores).\n",
    "\n",
    " \n",
    "\n",
    "#### Constraints:\n",
    "\n",
    "    0 <= nums.length <= 100\n",
    "    0 <= nums[i] <= 50\n",
    "    0 <= val <= 100"
   ]
  },
  {
   "cell_type": "markdown",
   "id": "f152e856",
   "metadata": {},
   "source": [
    "```python\n",
    "# python 3\n",
    "class Solution:\n",
    "    def removeElement(self, nums: List[int], val: int) -> int:\n",
    "```\n",
    "\n",
    "```python\n",
    "# python\n",
    "class Solution(object):\n",
    "    def removeElement(self, nums, val):\n",
    "        \"\"\"\n",
    "        :type nums: List[int]\n",
    "        :type val: int\n",
    "        :rtype: int\n",
    "        \"\"\"\n",
    "```\n",
    "\n",
    "```java\n",
    "// java\n",
    "class Solution {\n",
    "    public int removeElement(int[] nums, int val) {\n",
    "        \n",
    "    }\n",
    "}\n",
    "```\n",
    "\n",
    "```javascript\n",
    "// JavaScript\n",
    "/**\n",
    " * @param {number[]} nums\n",
    " * @param {number} val\n",
    " * @return {number}\n",
    " */\n",
    "var removeElement = function(nums, val) {\n",
    "    \n",
    "};\n",
    "```\n",
    "\n",
    "```typescript\n",
    "// TypeScript\n",
    "function removeElement(nums: number[], val: number): number {\n",
    "\n",
    "};\n",
    "```\n",
    "\n",
    "```go\n",
    "/* go */\n",
    "func removeElement(nums []int, val int) int {\n",
    "    \n",
    "}\n",
    "```\n",
    "\n",
    "```Rust\n",
    "// Rust\n",
    "impl Solution {\n",
    "    pub fn remove_element(nums: &mut Vec<i32>, val: i32) -> i32 {\n",
    "        \n",
    "    }\n",
    "}\n",
    "```"
   ]
  },
  {
   "cell_type": "code",
   "execution_count": 21,
   "id": "6d2206e4",
   "metadata": {},
   "outputs": [],
   "source": [
    "class Solution(object):\n",
    "    def removeElement(self, nums, val):\n",
    "        \"\"\"\n",
    "        :type nums: List[int]\n",
    "        :type val: int\n",
    "        :rtype: int\n",
    "        \"\"\"\n",
    "        \n",
    "        n = len(nums) \n",
    "        \n",
    "        j = 0\n",
    "        i = 0\n",
    "        while i + j < ln:\n",
    "            if nums[i] != val:\n",
    "                i += 1\n",
    "            else:\n",
    "                if nums[ln - j - 1] == val:\n",
    "                    j += 1\n",
    "                else:\n",
    "                    nums[i] = nums[ln - j - 1]\n",
    "                    j += 1\n",
    "                    i += 1\n",
    "         \n",
    "        return i"
   ]
  },
  {
   "cell_type": "code",
   "execution_count": 22,
   "id": "450575da",
   "metadata": {},
   "outputs": [],
   "source": [
    "nums = [0,1,2,2,3,0,4,2]\n",
    "val = 2"
   ]
  },
  {
   "cell_type": "code",
   "execution_count": 23,
   "id": "a2dd35ee",
   "metadata": {},
   "outputs": [
    {
     "name": "stdout",
     "output_type": "stream",
     "text": [
      "i= 0 j= 0 k= 0\n",
      "i= 1 j= 0 k= 1\n",
      "i= 2 j= 0 k= 2\n",
      "i= 2 j= 1 k= 2\n",
      "i= 2 j= 2 k= 2\n",
      "i= 3 j= 2 k= 3\n",
      "i= 3 j= 3 k= 3\n",
      "i= 4 j= 3 k= 4\n",
      "[0, 1, 4, 0, 3, -1, -1, -1] 5\n"
     ]
    }
   ],
   "source": [
    "aaa = Solution()\n",
    "aaa.removeElement(nums, val)"
   ]
  },
  {
   "cell_type": "markdown",
   "id": "5e4bc617",
   "metadata": {},
   "source": []
  },
  {
   "cell_type": "markdown",
   "id": "84c0c880",
   "metadata": {},
   "source": [
    "[to the Table of contents](#table_of_contents)\n",
    "<a id=\"remove_duplicates_from_sorted_array\"></a>"
   ]
  },
  {
   "cell_type": "markdown",
   "id": "8d41170b",
   "metadata": {},
   "source": [
    "### 26. Remove Duplicates from Sorted Array\n",
    "\n",
    "Given an integer array nums sorted in non-decreasing order, remove the duplicates in-place such that each unique element appears only once. The relative order of the elements should be kept the same. Then return the number of unique elements in nums.\n",
    "\n",
    "Consider the number of unique elements of nums to be k, to get accepted, you need to do the following things:\n",
    "\n",
    "    Change the array nums such that the first k elements of nums contain the unique elements in the order they were present in nums initially. The remaining elements of nums are not important as well as the size of nums.\n",
    "    Return k.\n",
    "\n",
    "Custom Judge:\n",
    "\n",
    "The judge will test your solution with the following code:\n",
    "```python\n",
    "int[] nums = [...]; // Input array\n",
    "int[] expectedNums = [...]; // The expected answer with correct length\n",
    "\n",
    "int k = removeDuplicates(nums); // Calls your implementation\n",
    "\n",
    "assert k == expectedNums.length;\n",
    "for (int i = 0; i < k; i++) {\n",
    "    assert nums[i] == expectedNums[i];\n",
    "}\n",
    "```\n",
    "If all assertions pass, then your solution will be accepted.\n",
    "\n",
    " \n",
    "\n",
    "#### Example 1:\n",
    "\n",
    "    Input: nums = [1,1,2]\n",
    "    Output: 2, nums = [1,2,_]\n",
    "    Explanation: Your function should return k = 2, with the first two elements of nums being 1 and 2 respectively.\n",
    "    It does not matter what you leave beyond the returned k (hence they are underscores).\n",
    "\n",
    "#### Example 2:\n",
    "\n",
    "    Input: nums = [0,0,1,1,1,2,2,3,3,4]\n",
    "    Output: 5, nums = [0,1,2,3,4,_,_,_,_,_]\n",
    "    Explanation: Your function should return k = 5, with the first five elements of nums being 0, 1, 2, 3, and 4 respectively.\n",
    "    It does not matter what you leave beyond the returned k (hence they are underscores).\n",
    "\n",
    " \n",
    "\n",
    "#### Constraints:\n",
    "- 1 <= nums.length <= 3 * 104\n",
    "- -100 <= nums[i] <= 100\n",
    "- nums is sorted in non-decreasing order.\n",
    "\n"
   ]
  },
  {
   "cell_type": "markdown",
   "id": "d4106a30",
   "metadata": {},
   "source": [
    "```python\n",
    "# python 3\n",
    "class Solution:\n",
    "    def removeDuplicates(self, nums: List[int]) -> int:\n",
    "```\n",
    "\n",
    "```python\n",
    "# python\n",
    "class Solution(object):\n",
    "    def removeDuplicates(self, nums):\n",
    "        \"\"\"\n",
    "        :type nums: List[int]\n",
    "        :rtype: int\n",
    "        \"\"\"\n",
    "```\n",
    "\n",
    "```java\n",
    "// java\n",
    "class Solution {\n",
    "    public int removeDuplicates(int[] nums) {\n",
    "        \n",
    "    }\n",
    "}\n",
    "```\n",
    "\n",
    "```cpp\n",
    "// c++\n",
    "class Solution {\n",
    "public:\n",
    "    int removeDuplicates(vector<int>& nums) {\n",
    "        \n",
    "    }\n",
    "};\n",
    "```\n",
    "\n",
    "```javascript\n",
    "//JavaScript\n",
    "/**\n",
    " * @param {number[]} nums\n",
    " * @return {number}\n",
    " */\n",
    "var removeDuplicates = function(nums) {\n",
    "    \n",
    "};\n",
    "```\n",
    "\n",
    "```typescript\n",
    "// TypeScript\n",
    "function removeDuplicates(nums: number[]): number {\n",
    "\n",
    "};\n",
    "```\n",
    "\n",
    "```go\n",
    "// Go\n",
    "func removeDuplicates(nums []int) int {\n",
    "    \n",
    "}\n",
    "```\n",
    "\n",
    "```Rust\n",
    "// Rust\n",
    "impl Solution {\n",
    "    pub fn remove_duplicates(nums: &mut Vec<i32>) -> i32 {\n",
    "        \n",
    "    }\n",
    "}\n",
    "```"
   ]
  },
  {
   "cell_type": "code",
   "execution_count": 41,
   "id": "9f554b6d",
   "metadata": {},
   "outputs": [
    {
     "ename": "ModuleNotFoundError",
     "evalue": "No module named 'List'",
     "output_type": "error",
     "traceback": [
      "\u001b[0;31m---------------------------------------------------------------------------\u001b[0m",
      "\u001b[0;31mModuleNotFoundError\u001b[0m                       Traceback (most recent call last)",
      "\u001b[0;32m/var/folders/7q/_6zzxlmn4576y73_9n32qk_c0000gn/T/ipykernel_95376/1299700935.py\u001b[0m in \u001b[0;36m<module>\u001b[0;34m\u001b[0m\n\u001b[0;32m----> 1\u001b[0;31m \u001b[0;32mimport\u001b[0m \u001b[0mList\u001b[0m\u001b[0;34m\u001b[0m\u001b[0;34m\u001b[0m\u001b[0m\n\u001b[0m\u001b[1;32m      2\u001b[0m \u001b[0;32mclass\u001b[0m \u001b[0mSolution\u001b[0m\u001b[0;34m:\u001b[0m\u001b[0;34m\u001b[0m\u001b[0;34m\u001b[0m\u001b[0m\n\u001b[1;32m      3\u001b[0m     \u001b[0;32mdef\u001b[0m \u001b[0mremoveDuplicates\u001b[0m\u001b[0;34m(\u001b[0m\u001b[0mself\u001b[0m\u001b[0;34m,\u001b[0m \u001b[0mnums\u001b[0m\u001b[0;34m:\u001b[0m \u001b[0mList\u001b[0m\u001b[0;34m[\u001b[0m\u001b[0mint\u001b[0m\u001b[0;34m]\u001b[0m\u001b[0;34m)\u001b[0m \u001b[0;34m->\u001b[0m \u001b[0mint\u001b[0m\u001b[0;34m:\u001b[0m\u001b[0;34m\u001b[0m\u001b[0;34m\u001b[0m\u001b[0m\n\u001b[1;32m      4\u001b[0m \u001b[0;34m\u001b[0m\u001b[0m\n\u001b[1;32m      5\u001b[0m         \u001b[0mln\u001b[0m \u001b[0;34m=\u001b[0m \u001b[0mlen\u001b[0m\u001b[0;34m(\u001b[0m\u001b[0mnums\u001b[0m\u001b[0;34m)\u001b[0m\u001b[0;34m\u001b[0m\u001b[0;34m\u001b[0m\u001b[0m\n",
      "\u001b[0;31mModuleNotFoundError\u001b[0m: No module named 'List'"
     ]
    }
   ],
   "source": [
    "import List\n",
    "class Solution:\n",
    "    def removeDuplicates(self, nums: List[int]) -> int:\n",
    "        \n",
    "        ln = len(nums) \n",
    "        i = 1\n",
    "        j = 0\n",
    "        while i+j < ln:\n",
    "            if nums[i-1] < nums[i]:\n",
    "                i += 1  \n",
    "            else:\n",
    "                while j+i < ln and nums[i-1] >= nums[i+j]:\n",
    "                    j += 1\n",
    "                if j+i < ln and nums[i] < nums[i+j]:\n",
    "                    nums[i] = nums[i+j]\n",
    "                    i += 1\n",
    "                \n",
    "        return min(i, ln)"
   ]
  },
  {
   "cell_type": "code",
   "execution_count": 13,
   "id": "8a8dd6f2",
   "metadata": {},
   "outputs": [
    {
     "data": {
      "text/plain": [
       "2"
      ]
     },
     "execution_count": 13,
     "metadata": {},
     "output_type": "execute_result"
    }
   ],
   "source": [
    "# nums = [0,0,1,1,1,2,2,3,3,4]\n",
    "nums = [1, 1, 2]\n",
    "aaa = Solution()\n",
    "aaa.removeDuplicates(nums)"
   ]
  },
  {
   "cell_type": "code",
   "execution_count": 37,
   "id": "de4e8db6",
   "metadata": {},
   "outputs": [],
   "source": [
    "def removeDuplicates(nums):\n",
    "        ln = len(nums) \n",
    "        i = 1\n",
    "        j = 0\n",
    "        while i+j < ln:\n",
    "            print('while start:', 'step=', i+j, 'i=', i, 'j=', j, nums)\n",
    "            if nums[i-1] < nums[i]:\n",
    "                i += 1  \n",
    "            else:\n",
    "                print('else before:', 'step=', i+j, 'i=', i, 'j=', j, nums)\n",
    "                while j+i < ln and nums[i-1] >= nums[i+j]:\n",
    "                    j += 1\n",
    "\n",
    "                if j+i < ln and nums[i] < nums[i+j]:\n",
    "                    nums[i] = nums[i+j]\n",
    "                    i += 1\n",
    "                \n",
    "                print('else after:', 'step=', i+j, 'i=', i, 'j=', j, nums)\n",
    "                \n",
    "        return min(i, ln)"
   ]
  },
  {
   "cell_type": "code",
   "execution_count": 39,
   "id": "07c259ea",
   "metadata": {},
   "outputs": [
    {
     "name": "stdout",
     "output_type": "stream",
     "text": [
      "while start: step= 1 i= 1 j= 0 [1, 1, 2, 3]\n",
      "else before: step= 1 i= 1 j= 0 [1, 1, 2, 3]\n",
      "else after: step= 3 i= 2 j= 1 [1, 2, 2, 3]\n",
      "while start: step= 3 i= 2 j= 1 [1, 2, 2, 3]\n",
      "else before: step= 3 i= 2 j= 1 [1, 2, 2, 3]\n",
      "else after: step= 4 i= 3 j= 1 [1, 2, 3, 3]\n"
     ]
    },
    {
     "data": {
      "text/plain": [
       "3"
      ]
     },
     "execution_count": 39,
     "metadata": {},
     "output_type": "execute_result"
    }
   ],
   "source": [
    "nums = [1, 1, 2, 3]\n",
    "# nums = [0,0,1,1,1,2,2,3,3,4]\n",
    "removeDuplicates(nums)"
   ]
  },
  {
   "cell_type": "markdown",
   "id": "5ac51c64",
   "metadata": {},
   "source": [
    "#### Пояснение решения\n",
    "\n",
    "1. Если элемент i > чем элемент i - 1, то значит можем увеличить индекс на единицу\n",
    "2. Если нет, то тут возникает вопрос, что делать?\n",
    "     2.1 Берем следующий индекс: j"
   ]
  },
  {
   "cell_type": "markdown",
   "id": "b92d791b",
   "metadata": {},
   "source": [
    "[to the Table of contents](#table_of_contents)\n",
    "<a id=\"majority_element\"></a>"
   ]
  },
  {
   "cell_type": "markdown",
   "id": "115b219e",
   "metadata": {},
   "source": [
    "### 169. Majority Element\n",
    "\n",
    "Given an array nums of size n, return the majority element.\n",
    "\n",
    "The majority element is the element that appears more than ⌊n / 2⌋ times. You may assume that the majority element always exists in the array.\n",
    "\n",
    " \n",
    "\n",
    "#### Example 1:\n",
    "\n",
    "    Input: nums = [3,2,3]\n",
    "    Output: 3\n",
    "\n",
    "#### Example 2:\n",
    "\n",
    "    Input: nums = [2,2,1,1,1,2,2]\n",
    "    Output: 2\n",
    "\n",
    " \n",
    "\n",
    "#### Constraints:\n",
    "\n",
    "- $n == nums.length$\n",
    "- $1 <= n <= 5 * 10^4$\n",
    "- $-10^9 <= nums[i] <= 10^9$\n",
    "\n",
    " \n",
    "Follow-up: Could you solve the problem in linear time and in O(1) space?"
   ]
  },
  {
   "cell_type": "code",
   "execution_count": 33,
   "id": "22cc32bc",
   "metadata": {},
   "outputs": [],
   "source": [
    "class Solution(object):\n",
    "    def majorityElement(self, nums):\n",
    "        \"\"\"\n",
    "        :type nums: List[int]\n",
    "        :rtype: int\n",
    "        \"\"\"\n",
    "        di = {}\n",
    "        for item in nums:\n",
    "            i = di.get(item, 0)\n",
    "            di[item] = i + 1\n",
    "                \n",
    "        maxa = 1\n",
    "        for i, a in di.items():\n",
    "            if a > maxa:\n",
    "                maxa = a\n",
    "                item = i\n",
    "        return item"
   ]
  },
  {
   "cell_type": "code",
   "execution_count": null,
   "id": "fc40e46a",
   "metadata": {},
   "outputs": [],
   "source": [
    "class Solution:\n",
    "    def majorityElement(self, nums: List[int]) -> int:\n",
    "        di = {}\n",
    "        for item in nums:\n",
    "            i = di.get(item, 0)\n",
    "            di[item] = i + 1\n",
    "                \n",
    "        maxa = 1\n",
    "        for i, a in di.items():\n",
    "            if a > maxa:\n",
    "                maxa = a\n",
    "                item = i\n",
    "        return item"
   ]
  },
  {
   "cell_type": "code",
   "execution_count": 34,
   "id": "747da659",
   "metadata": {},
   "outputs": [
    {
     "name": "stdout",
     "output_type": "stream",
     "text": [
      "3\n",
      "2\n"
     ]
    }
   ],
   "source": [
    "aaa = Solution()\n",
    "nums = [3,2,3]\n",
    "print(aaa.majorityElement(nums))\n",
    "nums = [2,2,1,1,1,2,2]\n",
    "print(aaa.majorityElement(nums))"
   ]
  },
  {
   "cell_type": "markdown",
   "id": "7c40f5cb",
   "metadata": {},
   "source": [
    "[to the Table of contents](#table_of_contents)\n",
    "<a id=\"roman_to_integer\"></a>"
   ]
  },
  {
   "cell_type": "markdown",
   "id": "00c0aebb",
   "metadata": {},
   "source": [
    "### 13. Roman to Integer\n",
    "\n",
    "Roman numerals are represented by seven different symbols: I, V, X, L, C, D and M.\n",
    "\n",
    "Symbol       Value\n",
    "I             1\n",
    "V             5\n",
    "X             10\n",
    "L             50\n",
    "C             100\n",
    "D             500\n",
    "M             1000\n",
    "\n",
    "For example, 2 is written as II in Roman numeral, just two ones added together. 12 is written as XII, which is simply X + II. The number 27 is written as XXVII, which is XX + V + II.\n",
    "\n",
    "Roman numerals are usually written largest to smallest from left to right. However, the numeral for four is not IIII. Instead, the number four is written as IV. Because the one is before the five we subtract it making four. The same principle applies to the number nine, which is written as IX. There are six instances where subtraction is used:\n",
    "\n",
    "    I can be placed before V (5) and X (10) to make 4 and 9. \n",
    "    X can be placed before L (50) and C (100) to make 40 and 90. \n",
    "    C can be placed before D (500) and M (1000) to make 400 and 900.\n",
    "\n",
    "Given a roman numeral, convert it to an integer.\n",
    "\n",
    " \n",
    "\n",
    "Example 1:\n",
    "\n",
    "Input: s = \"III\"\n",
    "Output: 3\n",
    "Explanation: III = 3.\n",
    "\n",
    "Example 2:\n",
    "\n",
    "Input: s = \"LVIII\"\n",
    "Output: 58\n",
    "Explanation: L = 50, V= 5, III = 3.\n",
    "\n",
    "Example 3:\n",
    "\n",
    "Input: s = \"MCMXCIV\"\n",
    "Output: 1994\n",
    "Explanation: M = 1000, CM = 900, XC = 90 and IV = 4.\n",
    "\n",
    " \n",
    "\n",
    "Constraints:\n",
    "\n",
    "    1 <= s.length <= 15\n",
    "    s contains only the characters ('I', 'V', 'X', 'L', 'C', 'D', 'M').\n",
    "    It is guaranteed that s is a valid roman numeral in the range [1, 3999].\n"
   ]
  },
  {
   "cell_type": "markdown",
   "id": "dc099308",
   "metadata": {},
   "source": []
  },
  {
   "cell_type": "code",
   "execution_count": null,
   "id": "686651d6",
   "metadata": {},
   "outputs": [],
   "source": [
    "class Solution(object):\n",
    "    def romanToInt(self, s):\n",
    "        \"\"\"\n",
    "        :type s: str\n",
    "        :rtype: int\n",
    "        \"\"\"\n",
    "        roman = {'I': 1, 'V': 5, 'X': 10, 'L': 50, 'C': 100, 'D': 500, 'M': 1000}\n",
    "        total = 0\n",
    "        before = roman.get(s[0])\n",
    "        for item in s:\n",
    "            curr = roman.get(item)\n",
    "            if before < curr:\n",
    "                total += curr - before * 2\n",
    "            else:\n",
    "                total += curr\n",
    "            \n",
    "            before = curr\n",
    "\n",
    "        return total"
   ]
  },
  {
   "cell_type": "markdown",
   "id": "c71081a6",
   "metadata": {},
   "source": [
    "[to the Table of contents](#table_of_contents)\n",
    "<a id=\"medium\"></a>"
   ]
  },
  {
   "cell_type": "markdown",
   "id": "930464b3",
   "metadata": {},
   "source": [
    "## MEDIUM"
   ]
  },
  {
   "cell_type": "markdown",
   "id": "8f47e23a",
   "metadata": {},
   "source": [
    "<a id=\"remove_duplicates_from_sorted_array_2\"></a>"
   ]
  },
  {
   "cell_type": "markdown",
   "id": "966ebfda",
   "metadata": {},
   "source": [
    "### 80. Remove Duplicates from Sorted Array II\n",
    "\n",
    "Given an integer array nums sorted in non-decreasing order, remove some duplicates in-place such that each unique element appears at most twice. The relative order of the elements should be kept the same.\n",
    "\n",
    "Since it is impossible to change the length of the array in some languages, you must instead have the result be placed in the first part of the array nums. More formally, if there are k elements after removing the duplicates, then the first k elements of nums should hold the final result. It does not matter what you leave beyond the first k elements.\n",
    "\n",
    "Return k after placing the final result in the first k slots of nums.\n",
    "\n",
    "Do not allocate extra space for another array. You must do this by modifying the input array in-place with O(1) extra memory.\n",
    "\n",
    "Custom Judge:\n",
    "\n",
    "The judge will test your solution with the following code:\n",
    "```python\n",
    "int[] nums = [...]; // Input array\n",
    "int[] expectedNums = [...]; // The expected answer with correct length\n",
    "\n",
    "int k = removeDuplicates(nums); // Calls your implementation\n",
    "\n",
    "assert k == expectedNums.length;\n",
    "for (int i = 0; i < k; i++) {\n",
    "    assert nums[i] == expectedNums[i];\n",
    "}\n",
    "```\n",
    "\n",
    "If all assertions pass, then your solution will be accepted.\n",
    "\n",
    " \n",
    "\n",
    "#### Example 1:\n",
    "    Input: nums = [1,1,1,2,2,3]\n",
    "    Output: 5, nums = [1,1,2,2,3,_]\n",
    "    Explanation: Your function should return k = 5, with the first five elements of nums being 1, 1, 2, 2 and 3 respectively.\n",
    "    It does not matter what you leave beyond the returned k (hence they are underscores).\n",
    "\n",
    "#### Example 2:\n",
    "    Input: nums = [0,0,1,1,1,1,2,3,3]\n",
    "    Output: 7, nums = [0,0,1,1,2,3,3,_,_]\n",
    "    Explanation: Your function should return k = 7, with the first seven elements of nums being 0, 0, 1, 1, 2, 3 and 3 respectively.\n",
    "    It does not matter what you leave beyond the returned k (hence they are underscores).\n",
    "\n",
    " \n",
    "\n",
    "#### Constraints:\n",
    "- $1 <= nums.length <= 3 * 10^4$\n",
    "- $-10^4 <= nums[i] <= 10^4$\n",
    "- nums is sorted in non-decreasing order."
   ]
  },
  {
   "cell_type": "markdown",
   "id": "2bff1a8e",
   "metadata": {},
   "source": [
    "\n",
    "\n",
    "\n",
    "```python\n",
    "# python 3\n",
    "class Solution:\n",
    "    def removeDuplicates(self, nums: List[int]) -> int:\n",
    "```"
   ]
  },
  {
   "cell_type": "markdown",
   "id": "1e8ab022",
   "metadata": {},
   "source": [
    "### Решение\n",
    "если arr[i] > arr[i+1]:\n",
    "\n",
    "    i += 1\n",
    "    \n",
    "иначе:\n",
    "    \n",
    "    если k = 0"
   ]
  },
  {
   "cell_type": "code",
   "execution_count": 9,
   "id": "70f80129",
   "metadata": {},
   "outputs": [],
   "source": [
    "class Solution:\n",
    "    def removeDuplicates(self, nums: List[int]) -> int:\n",
    "        ln = len(nums) \n",
    "        i = 0\n",
    "        j = 0\n",
    "        curr_max = nums[0]\n",
    "        \n",
    "        while j < ln:\n",
    "            k = 0\n",
    "            while j < ln and nums[i] == nums[j]:\n",
    "                j += 1\n",
    "                k += 1\n",
    "                \n",
    "            if k > 1:\n",
    "                i += 1\n",
    "                nums[i] = curr_max\n",
    "               \n",
    "            if j < ln:\n",
    "                curr_max = nums[j]\n",
    "                i += 1\n",
    "                nums[i] = curr_max\n",
    "\n",
    "        return i + 1"
   ]
  },
  {
   "cell_type": "code",
   "execution_count": 35,
   "id": "444b01b7",
   "metadata": {},
   "outputs": [],
   "source": [
    "def removeDuplicates(n):\n",
    "        ln = len(n) \n",
    "        i = 0\n",
    "        j = 0\n",
    "        curr_max = n[0]\n",
    "        \n",
    "        while j < ln:\n",
    "            k = 0\n",
    "#             print('point1 j=', j, 'i=', i, 'k=',k ,'arr:', n, 'max:', curr_max)\n",
    "            while j < ln and n[i] == n[j]:\n",
    "                j += 1\n",
    "                k += 1\n",
    "#             print('point2 j=', j, 'i=', i, 'k=',k ,'arr:', n, 'max:', curr_max)\n",
    "\n",
    "            if k > 1:\n",
    "                i += 1\n",
    "                n[i] = curr_max\n",
    "\n",
    "#                 print('point3 j=', j, 'i=', i, 'k=',k ,'arr:', n, 'max:', curr_max) \n",
    "                \n",
    "            if j < ln:\n",
    "                curr_max = n[j]\n",
    "                i += 1\n",
    "                n[i] = curr_max\n",
    "#                 print('point4 j=', j, 'i=', i, 'k=',k ,'arr:', n, 'max:', curr_max)\n",
    "\n",
    "        return i+1"
   ]
  },
  {
   "cell_type": "code",
   "execution_count": 36,
   "id": "ad84730a",
   "metadata": {},
   "outputs": [
    {
     "name": "stdout",
     "output_type": "stream",
     "text": [
      "5\n",
      "7\n",
      "7\n",
      "5\n",
      "6\n"
     ]
    }
   ],
   "source": [
    "# nums = [0,0,0,1,2,2,2,3,3]\n",
    "nums=[1,1,1,2,2,3]\n",
    "print(removeDuplicates(nums))\n",
    "nums=[0,0,0,1,2,2,2,3,3]\n",
    "print(removeDuplicates(nums))\n",
    "nums=[0,0,1,1,1,1,2,3,3]\n",
    "print(removeDuplicates(nums))\n",
    "nums=[1,1,1,2,3,3]\n",
    "print(removeDuplicates(nums))\n",
    "nums=[1,1,1,2,2,3,4]\n",
    "print(removeDuplicates(nums))"
   ]
  },
  {
   "cell_type": "markdown",
   "id": "04d810ff",
   "metadata": {},
   "source": [
    "[to the Table of contents](#table_of_contents)\n",
    "<a id=\"rotate_array\"></a>"
   ]
  },
  {
   "cell_type": "markdown",
   "id": "338bf714",
   "metadata": {},
   "source": [
    "### 189. Rotate Array\n",
    "\n",
    "Given an integer array nums, rotate the array to the right by k steps, where k is non-negative.\n",
    "\n",
    " \n",
    "\n",
    "#### Example 1:\n",
    "\n",
    "    Input: nums = [1,2,3,4,5,6,7], k = 3\n",
    "    Output: [5,6,7,1,2,3,4]\n",
    "    Explanation:\n",
    "    rotate 1 steps to the right: [7,1,2,3,4,5,6]\n",
    "    rotate 2 steps to the right: [6,7,1,2,3,4,5]\n",
    "    rotate 3 steps to the right: [5,6,7,1,2,3,4]\n",
    "\n",
    "#### Example 2:\n",
    "\n",
    "    Input: nums = [-1,-100,3,99], k = 2\n",
    "    Output: [3,99,-1,-100]\n",
    "    Explanation: \n",
    "    rotate 1 steps to the right: [99,-1,-100,3]\n",
    "    rotate 2 steps to the right: [3,99,-1,-100]\n",
    "\n",
    " \n",
    "\n",
    "#### Constraints:\n",
    "\n",
    "- $1 <= nums.length <= 10^5$\n",
    "- $-2^{31} <= nums[i] <= 2^{31} - 1$\n",
    "- $0 <= k <= 10^5$\n",
    "\n",
    " \n",
    "\n",
    "#### Follow up:\n",
    "\n",
    "- Try to come up with as many solutions as you can. There are at least three different ways to solve this problem.\n",
    "- Could you do it in-place with O(1) extra space?\n",
    "\n"
   ]
  },
  {
   "cell_type": "code",
   "execution_count": null,
   "id": "28d7dcb1",
   "metadata": {},
   "outputs": [],
   "source": [
    "class Solution:\n",
    "    def rotate(self, nums: List[int], k: int) -> None:\n",
    "        \"\"\"\n",
    "        Do not return anything, modify nums in-place instead.\n",
    "        \"\"\"\n",
    "        \n",
    "        for i in k"
   ]
  },
  {
   "cell_type": "code",
   "execution_count": 3,
   "id": "83dc1f0f",
   "metadata": {},
   "outputs": [],
   "source": [
    "class Solution(object):\n",
    "    def rotate(self, nums, k):\n",
    "        start = 0\n",
    "        end = len(nums) - 1\n",
    "        if k == 0:\n",
    "            return None\n",
    "        else:\n",
    "            k = k % len(nums)\n",
    "        if k > 0 and k < end + 1:\n",
    "            ostatok = end\n",
    "        else:\n",
    "            ostatok = 0\n",
    "            \n",
    "        left = end - k + 1\n",
    "        right = k\n",
    "        \n",
    "        while ostatok > 0:\n",
    "            # print('start:', start, 'end:', end, 'ostatok:', ostatok, 'left:', left, 'right:', right)\n",
    "            if left >= right:\n",
    "                count = left // right\n",
    "                # print('count when left >= right:', count)\n",
    "                for c in range(count):\n",
    "                    start_r = end - c * right\n",
    "                    start_l = end - (c + 1) * right\n",
    "                    # print(start_l, start_r)\n",
    "                    for i in range(right):\n",
    "                        nums[start_r - i], nums[start_l - i] = nums[start_l - i], nums[start_r - i]\n",
    "                        # print(c, i, nums)\n",
    "                        \n",
    "                left = left % right\n",
    "                if left == 0:\n",
    "                    break\n",
    "                end = end - right * count\n",
    "                ostatok = end - start + 1\n",
    "                right = ostatok - left\n",
    "                # print(right, left, ostatok, start, end)\n",
    "            else:\n",
    "                count = right // left\n",
    "                # print('count when left < right:', count)\n",
    "                for c in range(count):\n",
    "                    start_l = start + c * left\n",
    "                    start_r = start + (c + 1) * left\n",
    "                    # print(start_l, start_r)\n",
    "                    for i in range(left):     \n",
    "                        nums[start_r + i], nums[start_l + i] = nums[start_l + i], nums[start_r + i]\n",
    "                        # print(c, i, nums)\n",
    "                        \n",
    "                right = right % left\n",
    "                if right == 0:\n",
    "                    break\n",
    "                start = start + left * count\n",
    "                ostatok = end - start + 1\n",
    "                left = ostatok - right\n",
    "                # print(right, left)"
   ]
  },
  {
   "cell_type": "code",
   "execution_count": 6,
   "id": "43c930ca",
   "metadata": {},
   "outputs": [
    {
     "name": "stdout",
     "output_type": "stream",
     "text": [
      "10 9\n",
      "0 0 [1, 2, 3, 4, 5, 6, 7, 8, 9, 10, 11]\n",
      "9 8\n",
      "1 0 [1, 2, 3, 4, 5, 6, 7, 8, 9, 11, 10]\n",
      "8 7\n",
      "2 0 [1, 2, 3, 4, 5, 6, 7, 8, 11, 9, 10]\n",
      "7 6\n",
      "3 0 [1, 2, 3, 4, 5, 6, 7, 11, 8, 9, 10]\n",
      "6 5\n",
      "4 0 [1, 2, 3, 4, 5, 6, 11, 7, 8, 9, 10]\n",
      "5 4\n",
      "5 0 [1, 2, 3, 4, 5, 11, 6, 7, 8, 9, 10]\n",
      "4 3\n",
      "6 0 [1, 2, 3, 4, 11, 5, 6, 7, 8, 9, 10]\n",
      "3 2\n",
      "7 0 [1, 2, 3, 11, 4, 5, 6, 7, 8, 9, 10]\n",
      "2 1\n",
      "8 0 [1, 2, 11, 3, 4, 5, 6, 7, 8, 9, 10]\n",
      "1 0\n",
      "9 0 [1, 11, 2, 3, 4, 5, 6, 7, 8, 9, 10]\n",
      "9 0 [11, 1, 2, 3, 4, 5, 6, 7, 8, 9, 10]\n"
     ]
    }
   ],
   "source": [
    "aaa = Solution()\n",
    "nums = [1,2,3,4,5,6,7,8,9,10, 11]\n",
    "k = 1\n",
    "aaa.rotate(nums, k)"
   ]
  },
  {
   "cell_type": "code",
   "execution_count": 54,
   "id": "7f0e2dc6",
   "metadata": {},
   "outputs": [],
   "source": [
    "def rotate(nums, k):\n",
    "    start = 0\n",
    "    end = len(nums) - 1\n",
    "    if k > 0 and k < end + 1:\n",
    "        ostatok = end\n",
    "    else:\n",
    "        ostatok = 0\n",
    "        \n",
    "    left = end - k + 1\n",
    "    right = k\n",
    "    \n",
    "    while ostatok > 0:\n",
    "        print('start:', start, 'end:', end, 'ostatok:', ostatok, 'left:', left, 'right:', right)\n",
    "        if left >= right:\n",
    "            count = left // right\n",
    "            print('count when left >= right:', count)\n",
    "            for c in range(count):\n",
    "                start_r = end - c * right\n",
    "                start_l = end - (c + 1) * right\n",
    "                print(start_l, start_r)\n",
    "                for i in range(right):\n",
    "                    nums[start_r - i], nums[start_l - i] = nums[start_l - i], nums[start_r - i]\n",
    "                    print(c, i, nums)\n",
    "                    \n",
    "            left = left % right\n",
    "            if left == 0:\n",
    "                break\n",
    "            end = end - right * count\n",
    "            ostatok = end - start + 1\n",
    "            right = ostatok - left\n",
    "            print(right, left, ostatok, start, end)\n",
    "        else:\n",
    "            count = right // left\n",
    "            print('count when left < right:', count)\n",
    "            for c in range(count):\n",
    "                start_l = start + c * left\n",
    "                start_r = start + (c + 1) * left\n",
    "                print(start_l, start_r)\n",
    "                for i in range(left):     \n",
    "                    nums[start_r + i], nums[start_l + i] = nums[start_l + i], nums[start_r + i]\n",
    "                    print(c, i, nums)\n",
    "                    \n",
    "            right = right % left\n",
    "            if right == 0:\n",
    "                break\n",
    "            start = start + left * count\n",
    "            ostatok = end - start + 1\n",
    "            left = ostatok - right\n",
    "            print(right, left)"
   ]
  },
  {
   "cell_type": "code",
   "execution_count": 55,
   "id": "3d4ea05a",
   "metadata": {
    "scrolled": true
   },
   "outputs": [
    {
     "name": "stdout",
     "output_type": "stream",
     "text": [
      "start: 0 end: 10 ostatok: 10 left: 3 right: 8\n",
      "count when left < right: 2\n",
      "0 3\n",
      "0 0 [4, 2, 3, 1, 5, 6, 7, 8, 9, 10, 11]\n",
      "0 1 [4, 5, 3, 1, 2, 6, 7, 8, 9, 10, 11]\n",
      "0 2 [4, 5, 6, 1, 2, 3, 7, 8, 9, 10, 11]\n",
      "3 6\n",
      "1 0 [4, 5, 6, 7, 2, 3, 1, 8, 9, 10, 11]\n",
      "1 1 [4, 5, 6, 7, 8, 3, 1, 2, 9, 10, 11]\n",
      "1 2 [4, 5, 6, 7, 8, 9, 1, 2, 3, 10, 11]\n",
      "2 3\n",
      "start: 6 end: 10 ostatok: 5 left: 3 right: 2\n",
      "count when left >= right: 1\n",
      "8 10\n",
      "0 0 [4, 5, 6, 7, 8, 9, 1, 2, 11, 10, 3]\n",
      "0 1 [4, 5, 6, 7, 8, 9, 1, 10, 11, 2, 3]\n",
      "2 1 3 6 8\n",
      "start: 6 end: 8 ostatok: 3 left: 1 right: 2\n",
      "count when left < right: 2\n",
      "6 7\n",
      "0 0 [4, 5, 6, 7, 8, 9, 10, 1, 11, 2, 3]\n",
      "7 8\n",
      "1 0 [4, 5, 6, 7, 8, 9, 10, 11, 1, 2, 3]\n",
      "start: 0 end: 3 ostatok: 3 left: 2 right: 2\n",
      "count when left >= right: 1\n",
      "1 3\n",
      "0 0 [-1, 2, 1, -2]\n",
      "0 1 [1, 2, -1, -2]\n",
      "start: 0 end: 1 ostatok: 1 left: 1 right: 1\n",
      "count when left >= right: 1\n",
      "0 1\n",
      "0 0 [2, 1]\n"
     ]
    }
   ],
   "source": [
    "nums = [1,2,3,4,5,6,7,8,9,10,11]\n",
    "k = 8\n",
    "rotate(nums, k)\n",
    "\n",
    "nums = [-1, -2, 1, 2]\n",
    "k = 2\n",
    "rotate(nums, k)\n",
    "\n",
    "\n",
    "nums = [1, 2]\n",
    "k = 1\n",
    "rotate(nums, k)\n"
   ]
  },
  {
   "cell_type": "markdown",
   "id": "ee588045",
   "metadata": {},
   "source": [
    "[to the Table of contents](#table_of_contents)\n",
    "<a id=\"jump_game\"></a>"
   ]
  },
  {
   "cell_type": "markdown",
   "id": "50da5844",
   "metadata": {},
   "source": [
    "### 55. Jump Game\n",
    "\n",
    "You are given an integer array nums. You are initially positioned at the array's first index, and each element in the array represents your maximum jump length at that position.\n",
    "\n",
    "Return true if you can reach the last index, or false otherwise.\n",
    "\n",
    " \n",
    "\n",
    "Example 1:\n",
    "\n",
    "Input: nums = [2,3,1,1,4]\n",
    "Output: true\n",
    "Explanation: Jump 1 step from index 0 to 1, then 3 steps to the last index.\n",
    "\n",
    "Example 2:\n",
    "\n",
    "Input: nums = [3,2,1,0,4]\n",
    "Output: false\n",
    "Explanation: You will always arrive at index 3 no matter what. Its maximum jump length is 0, which makes it impossible to reach the last index.\n",
    "\n",
    " \n",
    "\n",
    "Constraints:\n",
    "\n",
    "    1 <= nums.length <= 104\n",
    "    0 <= nums[i] <= 105\n",
    "\n"
   ]
  },
  {
   "cell_type": "code",
   "execution_count": 21,
   "id": "7b313559",
   "metadata": {},
   "outputs": [],
   "source": [
    "class Solution(object):\n",
    "    def canJump(self, nums):\n",
    "        \"\"\"\n",
    "        :type nums: List[int]\n",
    "        :rtype: bool\n",
    "        \"\"\"\n",
    "        j = len(nums) - 1\n",
    "        for i in range(len(nums) - 1, -1, -1): \n",
    "            if nums[i] >= j - i: \n",
    "                j = i\n",
    "        \n",
    "        if j == 0:\n",
    "            return True\n",
    "        else:\n",
    "            return False\n",
    "            "
   ]
  },
  {
   "cell_type": "code",
   "execution_count": 23,
   "id": "306320b4",
   "metadata": {},
   "outputs": [
    {
     "name": "stdout",
     "output_type": "stream",
     "text": [
      "4\n",
      "if 4 4\n",
      "3\n",
      "if 3 3\n",
      "2\n",
      "if 2 2\n",
      "1\n",
      "if 1 1\n",
      "0\n",
      "if 0 0\n",
      "True\n",
      "4\n",
      "if 4 4\n",
      "3\n",
      "2\n",
      "1\n",
      "0\n",
      "False\n",
      "0\n",
      "if 0 0\n",
      "True\n",
      "2\n",
      "if 2 2\n",
      "1\n",
      "0\n",
      "if 0 0\n",
      "True\n"
     ]
    }
   ],
   "source": [
    "\n",
    "aaa = Solution()\n",
    "nums = [2,3,1,1,4]\n",
    "print(aaa.canJump(nums))\n",
    "nums = [3,2,1,0,4]\n",
    "print(aaa.canJump(nums))\n",
    "nums = [0]\n",
    "print(aaa.canJump(nums))\n",
    "nums = [2, 0, 0]\n",
    "print(aaa.canJump(nums))"
   ]
  },
  {
   "cell_type": "markdown",
   "id": "8ce25b41",
   "metadata": {},
   "source": [
    "[to the Table of contents](#table_of_contents)\n",
    "<a id=\"integer_to_roman\"></a>"
   ]
  },
  {
   "cell_type": "markdown",
   "id": "23dd902c",
   "metadata": {},
   "source": [
    "### 12. Integer to Roman\n",
    "\n",
    "Roman numerals are represented by seven different symbols: I, V, X, L, C, D and M.\n",
    "\n",
    "Symbol       Value\n",
    "I             1\n",
    "V             5\n",
    "X             10\n",
    "L             50\n",
    "C             100\n",
    "D             500\n",
    "M             1000\n",
    "\n",
    "For example, 2 is written as II in Roman numeral, just two one's added together. 12 is written as XII, which is simply X + II. The number 27 is written as XXVII, which is XX + V + II.\n",
    "\n",
    "Roman numerals are usually written largest to smallest from left to right. However, the numeral for four is not IIII. Instead, the number four is written as IV. Because the one is before the five we subtract it making four. The same principle applies to the number nine, which is written as IX. There are six instances where subtraction is used:\n",
    "\n",
    "    I can be placed before V (5) and X (10) to make 4 and 9. \n",
    "    X can be placed before L (50) and C (100) to make 40 and 90. \n",
    "    C can be placed before D (500) and M (1000) to make 400 and 900.\n",
    "\n",
    "Given an integer, convert it to a roman numeral.\n",
    "\n",
    " \n",
    "\n",
    "Example 1:\n",
    "\n",
    "Input: num = 3\n",
    "Output: \"III\"\n",
    "Explanation: 3 is represented as 3 ones.\n",
    "\n",
    "Example 2:\n",
    "\n",
    "Input: num = 58\n",
    "Output: \"LVIII\"\n",
    "Explanation: L = 50, V = 5, III = 3.\n",
    "\n",
    "Example 3:\n",
    "\n",
    "Input: num = 1994\n",
    "Output: \"MCMXCIV\"\n",
    "Explanation: M = 1000, CM = 900, XC = 90 and IV = 4.\n",
    "\n",
    " \n",
    "\n",
    "Constraints:\n",
    "\n",
    "    1 <= num <= 3999\n",
    "\n"
   ]
  },
  {
   "cell_type": "markdown",
   "id": "7338acf9",
   "metadata": {},
   "source": [
    "class Solution(object):\n",
    "    def intToRoman(self, num):\n",
    "        \"\"\"\n",
    "        :type num: int\n",
    "        :rtype: str\n",
    "        \"\"\"\n",
    "        "
   ]
  },
  {
   "cell_type": "code",
   "execution_count": null,
   "id": "7d2955db",
   "metadata": {},
   "outputs": [],
   "source": [
    "class Solution(object):\n",
    "    def intToRoman(self, num):\n",
    "        \"\"\"\n",
    "        :type num: int\n",
    "        :rtype: str\n",
    "        \"\"\"\n",
    "        roman = {'I': 1, 'V': 5, 'X': 10, 'L': 50, 'C': 100, 'D': 500, 'M': 1000}\n",
    "        a = num\n",
    "        while a > 0:\n",
    "            "
   ]
  },
  {
   "cell_type": "code",
   "execution_count": 30,
   "id": "60f5c2a3",
   "metadata": {},
   "outputs": [
    {
     "name": "stdout",
     "output_type": "stream",
     "text": [
      "M 1000\n",
      "3 MMM \n",
      "D 500\n",
      "0  M\n",
      "C 100\n",
      "4 CCCC D\n",
      "L 50\n",
      "1 L C\n",
      "X 10\n",
      "0  L\n",
      "V 5\n",
      "1 V X\n",
      "I 1\n",
      "3 III V\n"
     ]
    }
   ],
   "source": [
    "roman = {'M': 1000, 'D': 500, 'C': 100, 'L': 50, 'X': 10, 'V': 5, 'I': 1}\n",
    "\n",
    "a = 3458\n",
    "prev = ''\n",
    "for item, delitel in roman.items():\n",
    "    print(item, delitel)\n",
    "    \n",
    "    b = a // delitel\n",
    "    print(b, item * b, prev)\n",
    "    a = a % delitel\n",
    "    prev = item\n",
    "    \n",
    "\n",
    "\n"
   ]
  },
  {
   "cell_type": "markdown",
   "id": "35356be7",
   "metadata": {},
   "source": [
    "[to the Table of contents](#table_of_contents)\n",
    "<a id=\"jump_game_2\"></a>"
   ]
  },
  {
   "cell_type": "markdown",
   "id": "e9ef5d73",
   "metadata": {},
   "source": [
    "### 45. Jump Game II\n",
    "\n",
    "You are given a 0-indexed array of integers nums of length n. You are initially positioned at nums[0].\n",
    "\n",
    "Each element nums[i] represents the maximum length of a forward jump from index i. In other words, if you are at nums[i], you can jump to any nums[i + j] where:\n",
    "\n",
    "    0 <= j <= nums[i] and\n",
    "    i + j < n\n",
    "\n",
    "Return the minimum number of jumps to reach nums[n - 1]. The test cases are generated such that you can reach nums[n - 1].\n",
    "\n",
    " \n",
    "\n",
    "Example 1:\n",
    "\n",
    "Input: nums = [2,3,1,1,4]\n",
    "Output: 2\n",
    "Explanation: The minimum number of jumps to reach the last index is 2. Jump 1 step from index 0 to 1, then 3 steps to the last index.\n",
    "\n",
    "Example 2:\n",
    "\n",
    "Input: nums = [2,3,0,1,4]\n",
    "Output: 2\n",
    "\n",
    " \n",
    "\n",
    "Constraints:\n",
    "\n",
    "    1 <= nums.length <= 104\n",
    "    0 <= nums[i] <= 1000\n",
    "    It's guaranteed that you can reach nums[n - 1].\n",
    "\n"
   ]
  },
  {
   "cell_type": "markdown",
   "id": "43dc2546",
   "metadata": {},
   "source": []
  },
  {
   "cell_type": "code",
   "execution_count": 4,
   "id": "7fa1068d",
   "metadata": {},
   "outputs": [],
   "source": [
    "class Solution(object):\n",
    "    def jump(self, arr):\n",
    "        \"\"\"\n",
    "        :type nums: List[int]\n",
    "        :rtype: int\n",
    "        \"\"\"\n",
    "        ln = len(arr)\n",
    "        max_jump = arr[0]\n",
    "        i = 0 \n",
    "        step = 0\n",
    "        if ln > 1:\n",
    "            while i < ln:\n",
    "                step += 1\n",
    "                stop = max_jump\n",
    "                # print(step, stop)\n",
    "                while i < ln and i <= stop:\n",
    "                    if max_jump  < arr[i] + i:\n",
    "                        max_jump = arr[i] + i\n",
    "                    i += 1\n",
    "        \n",
    "        return step\n",
    "        "
   ]
  },
  {
   "cell_type": "code",
   "execution_count": 5,
   "id": "d7003242",
   "metadata": {},
   "outputs": [
    {
     "name": "stdout",
     "output_type": "stream",
     "text": [
      "2\n"
     ]
    }
   ],
   "source": [
    "arr = [2,3,1,1,4]\n",
    "aaa = Solution()\n",
    "print(aaa.jump(arr))"
   ]
  },
  {
   "cell_type": "markdown",
   "id": "062cfe5b",
   "metadata": {},
   "source": [
    "[to the Table of contents](#table_of_contents)\n",
    "<a id=\"hard\"></a>"
   ]
  },
  {
   "cell_type": "markdown",
   "id": "dc1f956c",
   "metadata": {},
   "source": [
    "# HARD"
   ]
  },
  {
   "cell_type": "markdown",
   "id": "198b650b",
   "metadata": {},
   "source": [
    "<a id=\"candy\"></a>"
   ]
  },
  {
   "cell_type": "markdown",
   "id": "079fb237",
   "metadata": {},
   "source": [
    "### 135. Candy\n",
    "\n",
    "There are n children standing in a line. Each child is assigned a rating value given in the integer array ratings.\n",
    "\n",
    "You are giving candies to these children subjected to the following requirements:\n",
    "\n",
    "- Each child must have at least one candy.\n",
    "- Children with a higher rating get more candies than their neighbors.\n",
    "\n",
    "Return the minimum number of candies you need to have to distribute the candies to the children.\n",
    "\n",
    " \n",
    "\n",
    "### Example 1:\n",
    "\n",
    "    Input: ratings = [1,0,2]\n",
    "    Output: 5\n",
    "    Explanation: You can allocate to the first, second and third child with 2, 1, 2 candies respectively.\n",
    "\n",
    "### Example 2:\n",
    "\n",
    "    Input: ratings = [1,2,2]\n",
    "    Output: 4\n",
    "    Explanation: You can allocate to the first, second and third child with 1, 2, 1 candies respectively.\n",
    "    The third child gets 1 candy because it satisfies the above two conditions.\n",
    "\n",
    " \n",
    "\n",
    "### Constraints:\n",
    "\n",
    "- $n == ratings.length$\n",
    "- $1 <= n <= 2 * 10^4$\n",
    "- $0 <= ratings[i] <= 2 * 10^4$\n",
    "\n"
   ]
  },
  {
   "cell_type": "markdown",
   "id": "0e63f0d7",
   "metadata": {},
   "source": [
    "```python\n",
    "class Solution:\n",
    "    def candy(self, ratings: List[int]) -> int:\n",
    "```"
   ]
  },
  {
   "cell_type": "code",
   "execution_count": 25,
   "id": "99535e82",
   "metadata": {},
   "outputs": [],
   "source": [
    "def candy(n):\n",
    "    ln = len(n)\n",
    "    i = 0\n",
    "    total = 0\n",
    "    up = 0\n",
    "    down = 0\n",
    "    \n",
    "    before = n[i]\n",
    "    while i < ln:\n",
    "        print(i, total, up, down)\n",
    "        while i < ln and n[i] == before:\n",
    "            total += 1\n",
    "            i+=1\n",
    "            print(i, total, up, down)\n",
    "        \n",
    "        while i < ln and n[i] > before:\n",
    "            before = n[i]\n",
    "            i+=1\n",
    "            up+=1\n",
    "            print(i, total, up, down, before)\n",
    "            \n",
    "        while i < ln and n[i] < before:\n",
    "            before = n[i]\n",
    "            down+=1\n",
    "            i+=1\n",
    "            print(i, total, up, down, before)\n",
    "            \n",
    "        print('array:', n, 'i:', i, 'total:', total, 'up:', up, 'down:', down)\n",
    "        \n",
    "        if up > down:\n",
    "            print('up>down', 'up = up + 1:', up + 1)\n",
    "            up = up + 1\n",
    "            total += up * (up + 1)/2 + down*(down + 1)/2 - 1\n",
    "            up = 0\n",
    "            down = 0\n",
    "        else:\n",
    "            print('down>up', 'down = down + 1:', down + 1)\n",
    "            down = down + 1\n",
    "            total += up * (up + 1)/2 + down*(down + 1)/2 - 1\n",
    "            up = 0\n",
    "            down = 0\n",
    "    \n",
    "    return total"
   ]
  },
  {
   "cell_type": "code",
   "execution_count": 26,
   "id": "9aba614f",
   "metadata": {
    "scrolled": true
   },
   "outputs": [
    {
     "name": "stdout",
     "output_type": "stream",
     "text": [
      "0 0 0 0\n",
      "1 1 0 0\n",
      "2 1 1 0 2\n",
      "3 1 2 0 3\n",
      "4 1 3 0 4\n",
      "5 1 3 1 3\n",
      "6 1 3 2 1\n",
      "array: [1, 2, 3, 4, 3, 1, 1, 5] i: 6 total: 1 up: 3 down: 2\n",
      "up>down up = up + 1: 4\n",
      "6 13.0 0 0\n",
      "7 14.0 0 0\n",
      "8 14.0 1 0 5\n",
      "array: [1, 2, 3, 4, 3, 1, 1, 5] i: 8 total: 14.0 up: 1 down: 0\n",
      "up>down up = up + 1: 2\n"
     ]
    },
    {
     "data": {
      "text/plain": [
       "16.0"
      ]
     },
     "execution_count": 26,
     "metadata": {},
     "output_type": "execute_result"
    }
   ],
   "source": [
    "candy([1,2,3,4,3,1,1,5])"
   ]
  },
  {
   "cell_type": "markdown",
   "id": "2740a204",
   "metadata": {},
   "source": [
    "[to the Table of contents](#table_of_contents)\n",
    "<a id=\"trapping_rain_water\"></a>"
   ]
  },
  {
   "cell_type": "markdown",
   "id": "7168f1d8",
   "metadata": {},
   "source": [
    "### 42. Trapping Rain Water\n",
    "\n",
    "Given n non-negative integers representing an elevation map where the width of each bar is 1, compute how much water it can trap after raining.\n",
    "\n",
    " \n",
    "\n",
    "#### Example 1:\n",
    "\n",
    "    Input: height = [0,1,0,2,1,0,1,3,2,1,2,1]\n",
    "    Output: 6\n",
    "    Explanation: The above elevation map (black section) is represented by array [0,1,0,2,1,0,1,3,2,1,2,1]. In this case, 6 units of rain water (blue section) are being trapped.\n",
    "\n",
    "#### Example 2:\n",
    "\n",
    "    Input: height = [4,2,0,3,2,5]\n",
    "    Output: 9\n",
    "\n",
    " \n",
    "\n",
    "#### Constraints:\n",
    "\n",
    "- $n == height.length$\n",
    "- $1 <= n <= 2 * 10^4$\n",
    "- $0 <= height[i] <= 10^5$"
   ]
  },
  {
   "cell_type": "markdown",
   "id": "b61b0c55",
   "metadata": {},
   "source": [
    "```python\n",
    "class Solution:\n",
    "    def trap(self, height: List[int]) -> int:\n",
    "```"
   ]
  },
  {
   "cell_type": "code",
   "execution_count": 13,
   "id": "ba0a859f",
   "metadata": {},
   "outputs": [],
   "source": [
    "arr = [0,1,0,2,1,0,1,3,2,1,2,1,3,3,0,0,2,3,3,3,2,1,0,0,1,0]\n",
    "# arr = [0,1,0,2,1,0,1,3] "
   ]
  },
  {
   "cell_type": "code",
   "execution_count": 43,
   "id": "1c9ceffa",
   "metadata": {},
   "outputs": [],
   "source": [
    "def max_item_search(arr):\n",
    "    max_item = 0\n",
    "    cnt = 0\n",
    "    for item in arr:\n",
    "        if item > max_item:\n",
    "            max_item = item\n",
    "            cnt = 1\n",
    "        elif max_item == item:\n",
    "            cnt += 1\n",
    "\n",
    "    print('max element:', max_item, 'count max elements:', cnt)\n",
    "    return max_item, cnt"
   ]
  },
  {
   "cell_type": "code",
   "execution_count": 44,
   "id": "e796f57d",
   "metadata": {},
   "outputs": [],
   "source": [
    "def get_left_cost(arr, max_item, sign):\n",
    "    ln = len(arr)\n",
    "    left_cost = 0\n",
    "    if sign == -1:\n",
    "        i = ln - 1\n",
    "    else:\n",
    "        i = 0\n",
    "        \n",
    "    water = 0\n",
    "#     print('i=', i, 'ln=', ln, 'left-cost:', left_cost, 'water:', water, 'start')\n",
    "    while i < ln and left_cost < max_item:\n",
    "        while i < ln and arr[i] < left_cost:\n",
    "            water += left_cost - arr[i]\n",
    "            i += sign\n",
    "#             print('i=', i, 'ln=', ln, 'left-cost:', left_cost, 'water:', water, 'while arr_i < left cost')\n",
    "\n",
    "        while i < ln and arr[i] >= left_cost:\n",
    "            left_cost = arr[i]\n",
    "            i += sign\n",
    "#             print('i=', i, 'ln=', ln, 'left-cost:', left_cost, 'water:', water, 'while arr_i >= left cost')\n",
    "    return i, water"
   ]
  },
  {
   "cell_type": "code",
   "execution_count": 45,
   "id": "ed0b7999",
   "metadata": {},
   "outputs": [
    {
     "name": "stdout",
     "output_type": "stream",
     "text": [
      "max element: 3 count max elements: 6\n"
     ]
    }
   ],
   "source": [
    "max_item, cnt = max_item_search(arr)"
   ]
  },
  {
   "cell_type": "code",
   "execution_count": 46,
   "id": "87005ab1",
   "metadata": {},
   "outputs": [
    {
     "name": "stdout",
     "output_type": "stream",
     "text": [
      "8 5\n",
      "16 2\n"
     ]
    }
   ],
   "source": [
    "i, water_left = get_left_cost(arr, max_item, 1)\n",
    "print(i, water_left)\n",
    "j, water_right = get_left_cost(arr, max_item, -1)\n",
    "print(j, water_right)"
   ]
  },
  {
   "cell_type": "code",
   "execution_count": 47,
   "id": "4e2c99bf",
   "metadata": {},
   "outputs": [],
   "source": [
    "def water_between_max(arr, start, stop):  \n",
    "    i = start\n",
    "    water = 0\n",
    "    while i <= stop:\n",
    "        water += max_item - arr[i]\n",
    "        print('i=', i, 'water:', water)\n",
    "        i += 1    \n",
    "    return water"
   ]
  },
  {
   "cell_type": "code",
   "execution_count": 48,
   "id": "e072d632",
   "metadata": {},
   "outputs": [
    {
     "name": "stdout",
     "output_type": "stream",
     "text": [
      "i= 8 water: 1\n",
      "i= 9 water: 3\n",
      "i= 10 water: 4\n",
      "i= 11 water: 6\n",
      "i= 12 water: 6\n",
      "i= 13 water: 6\n",
      "i= 14 water: 9\n",
      "i= 15 water: 12\n",
      "i= 16 water: 13\n"
     ]
    }
   ],
   "source": [
    "water_between = water_between_max(arr, i, j)"
   ]
  },
  {
   "cell_type": "code",
   "execution_count": 38,
   "id": "d71f4aa5",
   "metadata": {},
   "outputs": [],
   "source": [
    "class Solution(object):\n",
    "    \n",
    "\n",
    "    \n",
    "    def max_item_search(self, arr):\n",
    "        max_item = 0\n",
    "        for item in arr:\n",
    "            if item > max_item:\n",
    "                max_item = item  \n",
    "                \n",
    "        return max_item\n",
    "\n",
    "\n",
    "    def get_left_cost(self, arr, max_item, sign):\n",
    "        ln = len(arr)\n",
    "        left_cost = 0\n",
    "        if sign == -1:\n",
    "            i = ln - 1\n",
    "        else:\n",
    "            i = 0\n",
    "\n",
    "        water = 0\n",
    "        while -1 < i < ln and left_cost < max_item:\n",
    "            while -1 < i < ln and arr[i] < left_cost:\n",
    "                water += left_cost - arr[i]\n",
    "                i += sign\n",
    "\n",
    "            while -1 < i < ln and arr[i] >= left_cost:\n",
    "                left_cost = arr[i]\n",
    "                i += sign\n",
    "        return i, water\n",
    "    \n",
    "    def water_between_max(self, arr, start, stop, max_item):  \n",
    "        i = start\n",
    "        water = 0\n",
    "        while i <= stop:\n",
    "            water += max_item - arr[i]\n",
    "            i += 1    \n",
    "        return water\n",
    "    \n",
    "    def trap(self, height):\n",
    "        \"\"\"\n",
    "        :type height: List[int]\n",
    "        :rtype: int\n",
    "        \"\"\"\n",
    "        max_item = self.max_item_search(height)\n",
    "        print(max_item, type(max_item))\n",
    "        \n",
    "        i, water_left = self.get_left_cost(height, max_item, 1)\n",
    "        j, water_right = self.get_left_cost(height, max_item, -1)\n",
    "        water_between = self.water_between_max(height, i, j, max_item)\n",
    "        \n",
    "        return water_left + water_between + water_right"
   ]
  },
  {
   "cell_type": "code",
   "execution_count": 39,
   "id": "37ca3da6",
   "metadata": {},
   "outputs": [],
   "source": [
    "aaa = Solution() "
   ]
  },
  {
   "cell_type": "code",
   "execution_count": 47,
   "id": "45ebc22f",
   "metadata": {},
   "outputs": [
    {
     "name": "stdout",
     "output_type": "stream",
     "text": [
      "2 <class 'int'>\n",
      "1\n"
     ]
    }
   ],
   "source": [
    "print(aaa.trap(arr))"
   ]
  },
  {
   "cell_type": "code",
   "execution_count": 46,
   "id": "a6cedd1b",
   "metadata": {},
   "outputs": [],
   "source": [
    "arr = [1, 2, 1, 2]"
   ]
  },
  {
   "cell_type": "code",
   "execution_count": null,
   "id": "e62bae45",
   "metadata": {},
   "outputs": [],
   "source": []
  }
 ],
 "metadata": {
  "kernelspec": {
   "display_name": "Python 3 (ipykernel)",
   "language": "python",
   "name": "python3"
  },
  "language_info": {
   "codemirror_mode": {
    "name": "ipython",
    "version": 3
   },
   "file_extension": ".py",
   "mimetype": "text/x-python",
   "name": "python",
   "nbconvert_exporter": "python",
   "pygments_lexer": "ipython3",
   "version": "3.9.7"
  }
 },
 "nbformat": 4,
 "nbformat_minor": 5
}
